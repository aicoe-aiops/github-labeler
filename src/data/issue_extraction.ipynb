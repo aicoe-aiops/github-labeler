{
 "cells": [
  {
   "cell_type": "markdown",
   "id": "6133f47d",
   "metadata": {},
   "source": [
    "In this notebook the github API is used with a github access token in order to download github issue data. There is functionality to wait when rate limits are reached, and already existing data can be appended to."
   ]
  },
  {
   "cell_type": "markdown",
   "id": "f5342a52",
   "metadata": {},
   "source": [
    "#### Import our packages and define our savename. The \"REPO_NAME\" environment variable should be either a github user/organization or a repo in the form {user}/{repo}. The savename will be used throughtout the issue labeler code for ceph and local storage."
   ]
  },
  {
   "cell_type": "code",
   "execution_count": 2,
   "id": "a89e1402",
   "metadata": {
    "ExecuteTime": {
     "end_time": "2021-06-22T20:15:45.495566Z",
     "start_time": "2021-06-22T20:15:42.688012Z"
    },
    "papermill": {
     "duration": 1.859258,
     "end_time": "2021-07-31T07:40:18.178034",
     "exception": false,
     "start_time": "2021-07-31T07:40:16.318776",
     "status": "completed"
    },
    "tags": []
   },
   "outputs": [],
   "source": [
    "import pandas as pd\n",
    "import numpy as np\n",
    "import collections\n",
    "import datetime\n",
    "import time\n",
    "from github import Github, RateLimitExceededException\n",
    "import os\n",
    "import itertools\n",
    "import seaborn as sns\n",
    "import io\n",
    "from dotenv import load_dotenv, find_dotenv\n",
    "import boto3"
   ]
  },
  {
   "cell_type": "code",
   "execution_count": 3,
   "id": "590a6aed-4100-48e8-9fdd-19a93832402b",
   "metadata": {
    "papermill": {
     "duration": 0.04678,
     "end_time": "2021-07-31T07:40:18.248450",
     "exception": false,
     "start_time": "2021-07-31T07:40:18.201670",
     "status": "completed"
    },
    "tags": []
   },
   "outputs": [
    {
     "data": {
      "text/plain": [
       "True"
      ]
     },
     "execution_count": 3,
     "metadata": {},
     "output_type": "execute_result"
    }
   ],
   "source": [
    "load_dotenv(find_dotenv())"
   ]
  },
  {
   "cell_type": "code",
   "execution_count": 4,
   "id": "249933c0",
   "metadata": {
    "ExecuteTime": {
     "end_time": "2021-06-22T20:15:44.114917Z",
     "start_time": "2021-06-22T20:15:43.435538Z"
    },
    "papermill": {
     "duration": 0.029324,
     "end_time": "2021-07-31T07:40:18.304048",
     "exception": false,
     "start_time": "2021-07-31T07:40:18.274724",
     "status": "completed"
    },
    "tags": []
   },
   "outputs": [],
   "source": [
    "g = Github(os.getenv(\"GITHUB_ACCESS_TOKEN\"))"
   ]
  },
  {
   "cell_type": "code",
   "execution_count": 5,
   "id": "6887a53c",
   "metadata": {
    "ExecuteTime": {
     "end_time": "2021-06-22T20:15:44.803238Z",
     "start_time": "2021-06-22T20:15:44.118251Z"
    },
    "papermill": {
     "duration": 0.035865,
     "end_time": "2021-07-31T07:40:18.360276",
     "exception": false,
     "start_time": "2021-07-31T07:40:18.324411",
     "status": "completed"
    },
    "tags": []
   },
   "outputs": [],
   "source": [
    "name = os.getenv(\"REPO_NAME\")\n",
    "\n",
    "if \"/\" in name:\n",
    "    REPO = name\n",
    "    USER = \"\"\n",
    "else:\n",
    "    USER = name\n",
    "    REPO = \"\""
   ]
  },
  {
   "cell_type": "code",
   "execution_count": 6,
   "id": "d1298fab-a757-43ad-98d8-8394a595636c",
   "metadata": {
    "papermill": {
     "duration": 0.156901,
     "end_time": "2021-07-31T07:40:18.543916",
     "exception": false,
     "start_time": "2021-07-31T07:40:18.387015",
     "status": "completed"
    },
    "tags": []
   },
   "outputs": [],
   "source": [
    "# whether to use ceph or store locally\n",
    "\n",
    "use_ceph = bool(int(os.getenv('USE_CEPH')))\n",
    "\n",
    "if use_ceph:\n",
    "    s3_endpoint_url = os.environ[\"OBJECT_STORAGE_ENDPOINT_URL\"]\n",
    "    s3_access_key = os.environ[\"AWS_ACCESS_KEY_ID\"]\n",
    "    s3_secret_key = os.environ[\"AWS_SECRET_ACCESS_KEY\"]\n",
    "    s3_bucket = os.environ[\"OBJECT_STORAGE_BUCKET_NAME\"]\n",
    "\n",
    "    s3 = boto3.client(\n",
    "        service_name=\"s3\",\n",
    "        aws_access_key_id=s3_access_key,\n",
    "        aws_secret_access_key=s3_secret_key,\n",
    "        endpoint_url=s3_endpoint_url,\n",
    "    )"
   ]
  },
  {
   "cell_type": "code",
   "execution_count": 7,
   "id": "c66d03d8",
   "metadata": {
    "ExecuteTime": {
     "end_time": "2021-06-22T20:15:45.482703Z",
     "start_time": "2021-06-22T20:15:44.805741Z"
    },
    "papermill": {
     "duration": 0.190736,
     "end_time": "2021-07-31T07:40:18.752967",
     "exception": false,
     "start_time": "2021-07-31T07:40:18.562231",
     "status": "completed"
    },
    "tags": []
   },
   "outputs": [],
   "source": [
    "# add all user's repos to list, or create list of one\n",
    "repos_ = []\n",
    "\n",
    "if USER:\n",
    "    org = g.get_user(USER)\n",
    "    repos = org.get_repos()\n",
    "    for repo in repos:\n",
    "        repos_.append(repo)\n",
    "else:\n",
    "    to_add = g.get_repo(REPO)\n",
    "    repos_.append(to_add)"
   ]
  },
  {
   "cell_type": "markdown",
   "id": "dcea63b1",
   "metadata": {},
   "source": [
    "#### Here we check ceph or local storage if the data for the repo exists. If it does, we load it in. We then use the github access token and pygithub to scrape all data and append it to the current existing dataframe."
   ]
  },
  {
   "cell_type": "code",
   "execution_count": 8,
   "id": "0e5e4209-a53e-469c-a4be-a725fce3d045",
   "metadata": {
    "scrolled": true
   },
   "outputs": [],
   "source": [
    "# load dataframe if exists\n",
    "\n",
    "savename = USER if USER else REPO.replace(\"/\", \"-_-\")\n",
    "\n",
    "if use_ceph:\n",
    "    try:\n",
    "        key = f\"github-labeler/data/{savename}.csv\"\n",
    "        response = s3.get_object(Bucket=s3_bucket, Key=key)\n",
    "        existing_df = pd.read_csv(response.get(\"Body\")).drop_duplicates()\n",
    "    except s3.exceptions.NoSuchKey:\n",
    "        existing_df = None\n",
    "else:\n",
    "    if os.path.exists(f\"../../data/{savename}.csv\"):\n",
    "        existing_df = pd.read_csv(f\"../../data/{savename}.csv\")\n",
    "    else:\n",
    "        existing_df = None"
   ]
  },
  {
   "cell_type": "code",
   "execution_count": 65,
   "id": "7e59e709",
   "metadata": {
    "ExecuteTime": {
     "end_time": "2021-06-22T20:15:45.485314Z",
     "start_time": "2021-06-22T20:15:57.315Z"
    },
    "papermill": {
     "duration": 0.034518,
     "end_time": "2021-07-31T07:40:18.817706",
     "exception": false,
     "start_time": "2021-07-31T07:40:18.783188",
     "status": "completed"
    },
    "tags": []
   },
   "outputs": [],
   "source": [
    "def get_issues_for_repo(repo, last_issue=None):\n",
    "    \"\"\"\n",
    "    takes in a pygithub repo object and returns the list of pygithub issue objects\n",
    "    \"\"\"\n",
    "    issues = []\n",
    "    issues_left = True\n",
    "    max_date = last_issue if last_issue is not None else datetime.datetime.min\n",
    "    while issues_left:\n",
    "        issues_left = False\n",
    "        try:\n",
    "            for issue in repo.get_issues(state=\"all\", direction=\"asc\", since=max_date):\n",
    "                if issue.created_at <= max_date:\n",
    "                    continue\n",
    "                max_date = issue.created_at\n",
    "                if issue.pull_request is None:\n",
    "                    issues.append(issue)\n",
    "        except RateLimitExceededException:\n",
    "            # rate limit exception\n",
    "            print(len(issues), \"issues added for\", {repo.full_name})\n",
    "            print(\"SLEEPING NOW FOR AN HOUR\")\n",
    "            time.sleep(60 * 61)\n",
    "            issues_left = True\n",
    "    return issues"
   ]
  },
  {
   "cell_type": "code",
   "execution_count": 66,
   "id": "5fd5165f",
   "metadata": {
    "ExecuteTime": {
     "end_time": "2021-06-22T20:15:45.486696Z",
     "start_time": "2021-06-22T20:15:57.319Z"
    },
    "papermill": {
     "duration": 354.151558,
     "end_time": "2021-07-31T07:46:12.992597",
     "exception": false,
     "start_time": "2021-07-31T07:40:18.841039",
     "status": "completed"
    },
    "tags": []
   },
   "outputs": [
    {
     "name": "stdout",
     "output_type": "stream",
     "text": [
      "2 total issues\n"
     ]
    }
   ],
   "source": [
    "# add in all issues\n",
    "all_issues = {}\n",
    "\n",
    "if existing_df is not None:\n",
    "    last_date = datetime.datetime.fromisoformat(existing_df.created_at.max())\n",
    "else:\n",
    "    last_date = None\n",
    "\n",
    "if USER:\n",
    "    print(\"getting issues for repos\")\n",
    "    for repo in repos_:\n",
    "        all_issues[repo.full_name] = get_issues_for_repo(repo, last_date)\n",
    "else:\n",
    "    repo = repos_[0]\n",
    "    all_issues[repo.full_name] = get_issues_for_repo(repo, last_date)\n",
    "\n",
    "total_issues = sum([len(b) for a, b in all_issues.items()])\n",
    "print(total_issues, \"total issues\")"
   ]
  },
  {
   "cell_type": "code",
   "execution_count": 70,
   "id": "1c582777",
   "metadata": {
    "ExecuteTime": {
     "end_time": "2021-06-22T20:15:45.488061Z",
     "start_time": "2021-06-22T20:15:57.323Z"
    },
    "papermill": {
     "duration": 0.079778,
     "end_time": "2021-07-31T07:46:13.097510",
     "exception": false,
     "start_time": "2021-07-31T07:46:13.017732",
     "status": "completed"
    },
    "tags": []
   },
   "outputs": [],
   "source": [
    "# create a dataframe for issues\n",
    "\n",
    "issue_data = []\n",
    "\n",
    "for repo, issues in all_issues.items():\n",
    "    for issue in issues:\n",
    "        labels = [lbl.name for lbl in issue.labels]\n",
    "        label_names = \"\\t\".join(labels) if labels else np.nan\n",
    "        id_ = repo + \"/\" + str(issue.number)\n",
    "        data = [\n",
    "            id_,\n",
    "            repo,\n",
    "            issue.title,\n",
    "            issue.body,\n",
    "            issue.created_at,\n",
    "            issue.user.login,\n",
    "            len(labels),\n",
    "            label_names,\n",
    "        ]\n",
    "        issue_data.append(data)\n",
    "cols = [\n",
    "    \"id\",\n",
    "    \"repo\",\n",
    "    \"title\",\n",
    "    \"body\",\n",
    "    \"created_at\",\n",
    "    \"created_by\",\n",
    "    \"num_labels\",\n",
    "    \"labels\",\n",
    "]\n",
    "\n",
    "if existing_df is not None:\n",
    "    issues_df = pd.concat([existing_df, pd.DataFrame(issue_data, columns=cols)])\n",
    "\n",
    "else:\n",
    "    issues_df = pd.DataFrame(issue_data, columns=cols)"
   ]
  },
  {
   "cell_type": "markdown",
   "id": "86153491",
   "metadata": {},
   "source": [
    "#### We do a little EDA on the issues and their labels and creators, then save the dataframe to a csv. We save it under the name {savename}.csv."
   ]
  },
  {
   "cell_type": "code",
   "execution_count": 72,
   "id": "06d7675c",
   "metadata": {
    "ExecuteTime": {
     "end_time": "2021-06-22T20:15:45.489197Z",
     "start_time": "2021-06-22T20:15:57.325Z"
    },
    "papermill": {
     "duration": 0.039056,
     "end_time": "2021-07-31T07:46:13.155752",
     "exception": false,
     "start_time": "2021-07-31T07:46:13.116696",
     "status": "completed"
    },
    "tags": []
   },
   "outputs": [
    {
     "data": {
      "text/html": [
       "<div>\n",
       "<style scoped>\n",
       "    .dataframe tbody tr th:only-of-type {\n",
       "        vertical-align: middle;\n",
       "    }\n",
       "\n",
       "    .dataframe tbody tr th {\n",
       "        vertical-align: top;\n",
       "    }\n",
       "\n",
       "    .dataframe thead th {\n",
       "        text-align: right;\n",
       "    }\n",
       "</style>\n",
       "<table border=\"1\" class=\"dataframe\">\n",
       "  <thead>\n",
       "    <tr style=\"text-align: right;\">\n",
       "      <th></th>\n",
       "      <th>id</th>\n",
       "      <th>repo</th>\n",
       "      <th>title</th>\n",
       "      <th>body</th>\n",
       "      <th>created_at</th>\n",
       "      <th>created_by</th>\n",
       "      <th>num_labels</th>\n",
       "      <th>labels</th>\n",
       "    </tr>\n",
       "  </thead>\n",
       "  <tbody>\n",
       "    <tr>\n",
       "      <th>8145</th>\n",
       "      <td>openshift/origin/17781</td>\n",
       "      <td>openshift/origin</td>\n",
       "      <td>TestProjectRequestError</td>\n",
       "      <td>https://openshift-gce-devel.appspot.com/build/...</td>\n",
       "      <td>2017-12-14 13:22:07</td>\n",
       "      <td>kargakis</td>\n",
       "      <td>3</td>\n",
       "      <td>priority/P2\\tarea/tests\\tsig/master</td>\n",
       "    </tr>\n",
       "    <tr>\n",
       "      <th>4337</th>\n",
       "      <td>openshift/origin/11161</td>\n",
       "      <td>openshift/origin</td>\n",
       "      <td>Make verify fails with \"Swagger spec out of date\"</td>\n",
       "      <td>Jenkins (and Travis) tests keep failing with `...</td>\n",
       "      <td>2016-09-29 17:08:53</td>\n",
       "      <td>juanvallejo</td>\n",
       "      <td>1</td>\n",
       "      <td>kind/test-flake</td>\n",
       "    </tr>\n",
       "    <tr>\n",
       "      <th>5693</th>\n",
       "      <td>openshift/origin/11859</td>\n",
       "      <td>openshift/origin</td>\n",
       "      <td>oc cluster up fails to install metrics</td>\n",
       "      <td>There has been a change in origin metrics wher...</td>\n",
       "      <td>2016-11-09 21:55:02</td>\n",
       "      <td>mwringe</td>\n",
       "      <td>4</td>\n",
       "      <td>area/usability\\tpriority/P2\\tcomponent/composi...</td>\n",
       "    </tr>\n",
       "    <tr>\n",
       "      <th>3683</th>\n",
       "      <td>openshift/origin/9434</td>\n",
       "      <td>openshift/origin</td>\n",
       "      <td>Update custom errors for deployment controller...</td>\n",
       "      <td>@deads2k @mfojtik \\n</td>\n",
       "      <td>2016-06-20 12:45:10</td>\n",
       "      <td>kargakis</td>\n",
       "      <td>4</td>\n",
       "      <td>priority/P3\\tcomponent/apps\\thelp wanted\\tlife...</td>\n",
       "    </tr>\n",
       "    <tr>\n",
       "      <th>4288</th>\n",
       "      <td>openshift/origin/11042</td>\n",
       "      <td>openshift/origin</td>\n",
       "      <td>Source pod ip is not preserved when contacting...</td>\n",
       "      <td>A kube e2e test was added to validate preserva...</td>\n",
       "      <td>2016-09-21 15:08:47</td>\n",
       "      <td>marun</td>\n",
       "      <td>4</td>\n",
       "      <td>priority/P3\\tcomponent/networking\\tarea/techde...</td>\n",
       "    </tr>\n",
       "  </tbody>\n",
       "</table>\n",
       "</div>"
      ],
      "text/plain": [
       "                          id              repo  \\\n",
       "8145  openshift/origin/17781  openshift/origin   \n",
       "4337  openshift/origin/11161  openshift/origin   \n",
       "5693  openshift/origin/11859  openshift/origin   \n",
       "3683   openshift/origin/9434  openshift/origin   \n",
       "4288  openshift/origin/11042  openshift/origin   \n",
       "\n",
       "                                                  title  \\\n",
       "8145                            TestProjectRequestError   \n",
       "4337  Make verify fails with \"Swagger spec out of date\"   \n",
       "5693             oc cluster up fails to install metrics   \n",
       "3683  Update custom errors for deployment controller...   \n",
       "4288  Source pod ip is not preserved when contacting...   \n",
       "\n",
       "                                                   body           created_at  \\\n",
       "8145  https://openshift-gce-devel.appspot.com/build/...  2017-12-14 13:22:07   \n",
       "4337  Jenkins (and Travis) tests keep failing with `...  2016-09-29 17:08:53   \n",
       "5693  There has been a change in origin metrics wher...  2016-11-09 21:55:02   \n",
       "3683                               @deads2k @mfojtik \\n  2016-06-20 12:45:10   \n",
       "4288  A kube e2e test was added to validate preserva...  2016-09-21 15:08:47   \n",
       "\n",
       "       created_by  num_labels  \\\n",
       "8145     kargakis           3   \n",
       "4337  juanvallejo           1   \n",
       "5693      mwringe           4   \n",
       "3683     kargakis           4   \n",
       "4288        marun           4   \n",
       "\n",
       "                                                 labels  \n",
       "8145                priority/P2\\tarea/tests\\tsig/master  \n",
       "4337                                    kind/test-flake  \n",
       "5693  area/usability\\tpriority/P2\\tcomponent/composi...  \n",
       "3683  priority/P3\\tcomponent/apps\\thelp wanted\\tlife...  \n",
       "4288  priority/P3\\tcomponent/networking\\tarea/techde...  "
      ]
     },
     "execution_count": 72,
     "metadata": {},
     "output_type": "execute_result"
    }
   ],
   "source": [
    "# show issues dataframe\n",
    "issues_df.sample(5)"
   ]
  },
  {
   "cell_type": "code",
   "execution_count": 11,
   "id": "97973a1d-a1d5-4500-a9c0-215cced61257",
   "metadata": {
    "execution": {
     "iopub.execute_input": "2021-07-31T07:46:13.210991Z",
     "iopub.status.busy": "2021-07-31T07:46:13.200597Z",
     "iopub.status.idle": "2021-07-31T07:46:13.215705Z",
     "shell.execute_reply": "2021-07-31T07:46:13.214239Z"
    },
    "papermill": {
     "duration": 0.041225,
     "end_time": "2021-07-31T07:46:13.215892",
     "exception": false,
     "start_time": "2021-07-31T07:46:13.174667",
     "status": "completed"
    },
    "tags": []
   },
   "outputs": [
    {
     "data": {
      "text/plain": [
       "[('question', 1178),\n",
       " ('needs triage', 987),\n",
       " ('stale', 463),\n",
       " ('bug', 401),\n",
       " ('enhancement', 167),\n",
       " ('help wanted', 146),\n",
       " ('documentation', 85),\n",
       " ('speech-to-text', 42),\n",
       " ('windows', 26),\n",
       " ('unable to repro', 26),\n",
       " ('wav2vec', 9),\n",
       " ('BART/mBART', 4),\n",
       " ('cleanup', 3),\n",
       " ('0.10.2', 2),\n",
       " ('M2M-100', 2),\n",
       " ('LayerDrop', 1),\n",
       " ('python3.9', 1),\n",
       " ('translation', 1),\n",
       " ('paraphraser', 1),\n",
       " ('DynamicConv/LightConv', 1)]"
      ]
     },
     "execution_count": 11,
     "metadata": {},
     "output_type": "execute_result"
    }
   ],
   "source": [
    "# view most common labels\n",
    "\n",
    "label_lst = list(\n",
    "    itertools.chain.from_iterable([ls.split(\"\\t\") for ls in issues_df.labels.dropna()])\n",
    ")\n",
    "counter = collections.Counter(label_lst)\n",
    "\n",
    "counter.most_common(20)"
   ]
  },
  {
   "cell_type": "code",
   "execution_count": 12,
   "id": "b1fed60e-84b1-4014-ab26-2ab80dc1af07",
   "metadata": {
    "execution": {
     "iopub.execute_input": "2021-07-31T07:46:13.267271Z",
     "iopub.status.busy": "2021-07-31T07:46:13.266389Z",
     "iopub.status.idle": "2021-07-31T07:46:13.270028Z",
     "shell.execute_reply": "2021-07-31T07:46:13.270576Z"
    },
    "papermill": {
     "duration": 0.032847,
     "end_time": "2021-07-31T07:46:13.270780",
     "exception": false,
     "start_time": "2021-07-31T07:46:13.237933",
     "status": "completed"
    },
    "tags": []
   },
   "outputs": [
    {
     "data": {
      "text/plain": [
       "shamanez          31\n",
       "erip              27\n",
       "gaopengcuhk       20\n",
       "ajesujoba         20\n",
       "astariul          18\n",
       "nicolabertoldi    17\n",
       "travel-go         16\n",
       "tuhinjubcse       16\n",
       "munael            16\n",
       "gvskalyan         15\n",
       "villmow           15\n",
       "MrityunjoyS       14\n",
       "getao             14\n",
       "aastha19          13\n",
       "haorannlp         13\n",
       "ghost             13\n",
       "14H034160212      13\n",
       "ismymajia         12\n",
       "louismartin       11\n",
       "sshleifer         11\n",
       "Name: created_by, dtype: int64"
      ]
     },
     "execution_count": 12,
     "metadata": {},
     "output_type": "execute_result"
    }
   ],
   "source": [
    "# view most common issue creators\n",
    "\n",
    "issues_df.created_by.value_counts()[:20]"
   ]
  },
  {
   "cell_type": "code",
   "execution_count": 13,
   "id": "ca4bd5a2-f829-4416-a614-fb5d5adcddaa",
   "metadata": {
    "execution": {
     "iopub.execute_input": "2021-07-31T07:46:13.317744Z",
     "iopub.status.busy": "2021-07-31T07:46:13.316593Z",
     "iopub.status.idle": "2021-07-31T07:46:13.521440Z",
     "shell.execute_reply": "2021-07-31T07:46:13.520735Z"
    },
    "papermill": {
     "duration": 0.231305,
     "end_time": "2021-07-31T07:46:13.521632",
     "exception": false,
     "start_time": "2021-07-31T07:46:13.290327",
     "status": "completed"
    },
    "tags": []
   },
   "outputs": [
    {
     "data": {
      "text/plain": [
       "(0.0, 6.0)"
      ]
     },
     "execution_count": 13,
     "metadata": {},
     "output_type": "execute_result"
    },
    {
     "data": {
      "image/png": "[encoded data removed]",
      "text/plain": [
       "<Figure size 432x288 with 1 Axes>"
      ]
     },
     "metadata": {
      "needs_background": "light"
     },
     "output_type": "display_data"
    }
   ],
   "source": [
    "# view distribution of the number of issues in a label\n",
    "\n",
    "ax = sns.histplot(issues_df.num_labels, bins=int(max(issues_df.num_labels)))\n",
    "ax.set_xlim((0, 6))"
   ]
  },
  {
   "cell_type": "code",
   "execution_count": 14,
   "id": "7be05b32",
   "metadata": {
    "ExecuteTime": {
     "end_time": "2021-06-22T20:15:45.491676Z",
     "start_time": "2021-06-22T20:15:57.328Z"
    },
    "execution": {
     "iopub.execute_input": "2021-07-31T07:46:13.574230Z",
     "iopub.status.busy": "2021-07-31T07:46:13.573488Z",
     "iopub.status.idle": "2021-07-31T07:46:14.704644Z",
     "shell.execute_reply": "2021-07-31T07:46:14.705413Z"
    },
    "papermill": {
     "duration": 1.16409,
     "end_time": "2021-07-31T07:46:14.705707",
     "exception": false,
     "start_time": "2021-07-31T07:46:13.541617",
     "status": "completed"
    },
    "tags": []
   },
   "outputs": [],
   "source": [
    "# save dataframe\n",
    "savename = USER if USER else REPO.replace(\"/\", \"-_-\")\n",
    "\n",
    "if use_ceph:\n",
    "    with io.StringIO() as csv_buffer:\n",
    "        issues_df.to_csv(csv_buffer, index=False)\n",
    "\n",
    "        response = s3.put_object(\n",
    "            Bucket=s3_bucket,\n",
    "            Key=f\"github-labeler/data/{savename}.csv\",\n",
    "            Body=csv_buffer.getvalue(),\n",
    "        )\n",
    "else:\n",
    "    issues_df.to_csv(os.path.join(\"../../data\", savename + \".csv\"), index=None)"
   ]
  }
 ],
 "metadata": {
  "kernelspec": {
   "display_name": "Python 3",
   "language": "python",
   "name": "python3"
  },
  "language_info": {
   "codemirror_mode": {
    "name": "ipython",
    "version": 3
   },
   "file_extension": ".py",
   "mimetype": "text/x-python",
   "name": "python",
   "nbconvert_exporter": "python",
   "pygments_lexer": "ipython3",
   "version": "3.8.8"
  },
  "papermill": {
   "default_parameters": {},
   "duration": 361.167154,
   "end_time": "2021-07-31T07:46:16.303588",
   "environment_variables": {},
   "exception": null,
   "input_path": "/opt/app-root/src/github-labeler/src/data/issue_extraction.ipynb",
   "output_path": "/opt/app-root/src/github-labeler/src/data/issue_extraction.ipynb",
   "parameters": {},
   "start_time": "2021-07-31T07:40:15.136434",
   "version": "2.3.3"
  },
  "toc": {
   "base_numbering": 1,
   "nav_menu": {},
   "number_sections": true,
   "sideBar": true,
   "skip_h1_title": false,
   "title_cell": "Table of Contents",
   "title_sidebar": "Contents",
   "toc_cell": false,
   "toc_position": {},
   "toc_section_display": true,
   "toc_window_display": false
  }
 },
 "nbformat": 4,
 "nbformat_minor": 5
}
