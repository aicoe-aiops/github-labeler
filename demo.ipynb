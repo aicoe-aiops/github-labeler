{
 "cells": [
  {
   "cell_type": "markdown",
   "id": "73483999",
   "metadata": {},
   "source": [
    "# Demo"
   ]
  },
  {
   "cell_type": "markdown",
   "id": "b22f83c3",
   "metadata": {},
   "source": [
    "In this notebook we show how to use the inference app that is on kubernetes. We will load in random issues from our dataset, and send a post request to the inference endpoint."
   ]
  },
  {
   "cell_type": "code",
   "execution_count": 1,
   "id": "4a43685d",
   "metadata": {
    "tags": [
     "hide-cell"
    ]
   },
   "outputs": [],
   "source": [
    "import requests\n",
    "import json\n",
    "import os\n",
    "import dotenv\n",
    "import boto3\n",
    "import pandas as pd"
   ]
  },
  {
   "cell_type": "code",
   "execution_count": 2,
   "id": "d369c8fd",
   "metadata": {
    "tags": [
     "hide-cell"
    ]
   },
   "outputs": [
    {
     "data": {
      "text/plain": [
       "True"
      ]
     },
     "execution_count": 2,
     "metadata": {},
     "output_type": "execute_result"
    }
   ],
   "source": [
    "dotenv.load_dotenv(dotenv.find_dotenv())"
   ]
  },
  {
   "cell_type": "code",
   "execution_count": 3,
   "id": "ba4fb8a4",
   "metadata": {
    "tags": [
     "hide-cell"
    ]
   },
   "outputs": [],
   "source": [
    "s3_endpoint_url = os.environ[\"OBJECT_STORAGE_ENDPOINT_URL\"]\n",
    "s3_access_key = os.environ[\"AWS_ACCESS_KEY_ID\"]\n",
    "s3_secret_key = os.environ[\"AWS_SECRET_ACCESS_KEY\"]\n",
    "s3_bucket = os.environ[\"OBJECT_STORAGE_BUCKET_NAME\"]\n",
    "s3 = boto3.client(\n",
    "    service_name=\"s3\",\n",
    "    aws_access_key_id=s3_access_key,\n",
    "    aws_secret_access_key=s3_secret_key,\n",
    "    endpoint_url=s3_endpoint_url,\n",
    ")"
   ]
  },
  {
   "cell_type": "code",
   "execution_count": 4,
   "id": "01479dc6",
   "metadata": {
    "tags": [
     "hide-cell"
    ]
   },
   "outputs": [],
   "source": [
    "name = os.getenv(\"REPO_NAME\")\n",
    "\n",
    "if \"/\" in name:\n",
    "    REPO = name\n",
    "    USER = \"\"\n",
    "else:\n",
    "    USER = name\n",
    "    REPO = \"\""
   ]
  },
  {
   "cell_type": "code",
   "execution_count": 5,
   "id": "265c63c2",
   "metadata": {
    "tags": [
     "hide-cell"
    ]
   },
   "outputs": [],
   "source": [
    "savename = USER if USER else REPO.replace(\"/\", \"-_-\")\n",
    "path = os.path.join(\"../data\", savename + \".csv\")\n",
    "key = f\"github-labeler/data/{savename}.csv\"\n",
    "\n",
    "df = s3.get_object(Bucket=s3_bucket, Key=key)"
   ]
  },
  {
   "cell_type": "code",
   "execution_count": 6,
   "id": "206e0447",
   "metadata": {
    "tags": [
     "hide-cell"
    ]
   },
   "outputs": [],
   "source": [
    "data = pd.read_csv(df['Body'])"
   ]
  },
  {
   "cell_type": "code",
   "execution_count": 7,
   "id": "bf6767f2",
   "metadata": {},
   "outputs": [
    {
     "data": {
      "text/html": [
       "<div>\n",
       "<style scoped>\n",
       "    .dataframe tbody tr th:only-of-type {\n",
       "        vertical-align: middle;\n",
       "    }\n",
       "\n",
       "    .dataframe tbody tr th {\n",
       "        vertical-align: top;\n",
       "    }\n",
       "\n",
       "    .dataframe thead th {\n",
       "        text-align: right;\n",
       "    }\n",
       "</style>\n",
       "<table border=\"1\" class=\"dataframe\">\n",
       "  <thead>\n",
       "    <tr style=\"text-align: right;\">\n",
       "      <th></th>\n",
       "      <th>id</th>\n",
       "      <th>repo</th>\n",
       "      <th>title</th>\n",
       "      <th>body</th>\n",
       "      <th>created_at</th>\n",
       "      <th>created_by</th>\n",
       "      <th>num_labels</th>\n",
       "      <th>labels</th>\n",
       "    </tr>\n",
       "  </thead>\n",
       "  <tbody>\n",
       "    <tr>\n",
       "      <th>663</th>\n",
       "      <td>openshift/origin/2443</td>\n",
       "      <td>openshift/origin</td>\n",
       "      <td>Make sure we allow specifying ImageStreamTag a...</td>\n",
       "      <td>@bparees per our discussion, I'm creating an i...</td>\n",
       "      <td>2015-05-22 13:33:45</td>\n",
       "      <td>soltysh</td>\n",
       "      <td>2</td>\n",
       "      <td>priority/P1\\tcomponent/build</td>\n",
       "    </tr>\n",
       "    <tr>\n",
       "      <th>6088</th>\n",
       "      <td>openshift/origin/15444</td>\n",
       "      <td>openshift/origin</td>\n",
       "      <td>[ERROR] PID 16377: hack/update-generated-clien...</td>\n",
       "      <td>```\\r\\nF0724 08:56:58.103443   17314 main.go:2...</td>\n",
       "      <td>2017-07-25 08:27:10</td>\n",
       "      <td>kargakis</td>\n",
       "      <td>2</td>\n",
       "      <td>priority/P3\\tkind/test-flake</td>\n",
       "    </tr>\n",
       "    <tr>\n",
       "      <th>4820</th>\n",
       "      <td>openshift/origin/12479</td>\n",
       "      <td>openshift/origin</td>\n",
       "      <td>[tests][extended] openshift pipeline build</td>\n",
       "      <td>flake from https://github.com/openshift/origin...</td>\n",
       "      <td>2017-01-13 12:02:41</td>\n",
       "      <td>PI-Victor</td>\n",
       "      <td>3</td>\n",
       "      <td>priority/P2\\tcomponent/build\\tkind/test-flake</td>\n",
       "    </tr>\n",
       "    <tr>\n",
       "      <th>6159</th>\n",
       "      <td>openshift/origin/15632</td>\n",
       "      <td>openshift/origin</td>\n",
       "      <td>Extended.[k8s.io] DNS should provide DNS for t...</td>\n",
       "      <td>The test is failing when running e2e extended ...</td>\n",
       "      <td>2017-08-04 11:02:55</td>\n",
       "      <td>ingvagabund</td>\n",
       "      <td>5</td>\n",
       "      <td>priority/P2\\tcomponent/networking\\tarea/tests\\...</td>\n",
       "    </tr>\n",
       "    <tr>\n",
       "      <th>8313</th>\n",
       "      <td>openshift/origin/21667</td>\n",
       "      <td>openshift/origin</td>\n",
       "      <td>Openshift 4 (quick notes on my install failure...</td>\n",
       "      <td>Sorry if this issue is in the wrong place, I c...</td>\n",
       "      <td>2018-12-15 17:52:55</td>\n",
       "      <td>jayunit100</td>\n",
       "      <td>0</td>\n",
       "      <td>NaN</td>\n",
       "    </tr>\n",
       "  </tbody>\n",
       "</table>\n",
       "</div>"
      ],
      "text/plain": [
       "                          id              repo  \\\n",
       "663    openshift/origin/2443  openshift/origin   \n",
       "6088  openshift/origin/15444  openshift/origin   \n",
       "4820  openshift/origin/12479  openshift/origin   \n",
       "6159  openshift/origin/15632  openshift/origin   \n",
       "8313  openshift/origin/21667  openshift/origin   \n",
       "\n",
       "                                                  title  \\\n",
       "663   Make sure we allow specifying ImageStreamTag a...   \n",
       "6088  [ERROR] PID 16377: hack/update-generated-clien...   \n",
       "4820         [tests][extended] openshift pipeline build   \n",
       "6159  Extended.[k8s.io] DNS should provide DNS for t...   \n",
       "8313  Openshift 4 (quick notes on my install failure...   \n",
       "\n",
       "                                                   body           created_at  \\\n",
       "663   @bparees per our discussion, I'm creating an i...  2015-05-22 13:33:45   \n",
       "6088  ```\\r\\nF0724 08:56:58.103443   17314 main.go:2...  2017-07-25 08:27:10   \n",
       "4820  flake from https://github.com/openshift/origin...  2017-01-13 12:02:41   \n",
       "6159  The test is failing when running e2e extended ...  2017-08-04 11:02:55   \n",
       "8313  Sorry if this issue is in the wrong place, I c...  2018-12-15 17:52:55   \n",
       "\n",
       "       created_by  num_labels  \\\n",
       "663       soltysh           2   \n",
       "6088     kargakis           2   \n",
       "4820    PI-Victor           3   \n",
       "6159  ingvagabund           5   \n",
       "8313   jayunit100           0   \n",
       "\n",
       "                                                 labels  \n",
       "663                        priority/P1\\tcomponent/build  \n",
       "6088                       priority/P3\\tkind/test-flake  \n",
       "4820      priority/P2\\tcomponent/build\\tkind/test-flake  \n",
       "6159  priority/P2\\tcomponent/networking\\tarea/tests\\...  \n",
       "8313                                                NaN  "
      ]
     },
     "execution_count": 7,
     "metadata": {},
     "output_type": "execute_result"
    }
   ],
   "source": [
    "data.sample(5)"
   ]
  },
  {
   "cell_type": "code",
   "execution_count": 8,
   "id": "d59f92dc",
   "metadata": {},
   "outputs": [],
   "source": [
    "row = data.sample(1).iloc[0]"
   ]
  },
  {
   "cell_type": "code",
   "execution_count": 9,
   "id": "00c7720a",
   "metadata": {
    "scrolled": false
   },
   "outputs": [
    {
     "name": "stdout",
     "output_type": "stream",
     "text": [
      "Router: Provide support for regular-expression route paths\n",
      "\n",
      " - - - - - - \n",
      "\n",
      "I have [a custom router][origin-router-regexp] based on the default HAProxy-based router that provides regular expression-based path routing. Unfortunately, as described in elyscape/origin-router-regexp#1, #12580 (which was first shipped in v1.5.0-rc3) changed the way that ports are handled. Instead of stripping them entirely, the request's base URI is matched against (in most cases) the output of `generateRouteRegexp $cfg.Host $cfg.Path $cfg.IsWildcard`. [`generateRouteRegexp`][generateRouteRegexp] is a function that builds a regular expression that, in general, follows the following pattern:\r\n",
      "```\r\n",
      "^${regexp.QuoteMeta($cfg.Host)}(:[0-9]+)?${regexp.QuoteMeta($cfg.Path)}(/.*)?$\r\n",
      "```\r\n",
      "Translated into words, this matches a string containing precisely the literal hostname, an optional port, the literal path, and optionally any subpaths thereof. This is useful in the general case, but unfortunately breaks my router. It would be nice if this regular-expression functionality on the path could be added to the base router, perhaps enabled by an annotation on the route.\r\n",
      "\r\n",
      "To explain why I made this router, I'll describe my use case. I have two services that need to be accessible on the same hostname (let's say `service.example.com`). One provides a REST API and the other provides a WebSocket channel. Unfortunately, the WebSocket channel is made available through a URL that looks like this `service.example.com/$contextId/socket`. In other words, the path that needs to be routed to the WebSocket service is accessed via a URL that has a variable prefix and a static suffix. This means that the standard OpenShift path routes won't work, as they assume a static prefix and an optional variable suffix. For various reasons, I can't move the WebSocket service to a different subdomain. To deal with this, I created my regular expression router and made a route with the path set to `/[^/]+/socket`.\r\n",
      "\r\n",
      "I didn't notice this issue earlier because we're still running the 1.3 series of OpenShift Origin.\r\n",
      "\r\n",
      "[origin-router-regexp]: https://github.com/elyscape/origin-router-regexp\r\n",
      "[generateRouteRegexp]: https://github.com/openshift/origin/blob/3ea2451f084347a0ecd2a52556f93bf995ff1380/pkg/router/template/template_helper.go#L99-L130\n",
      "\n",
      " - - - - - - \n",
      "\n",
      "priority/P2\tcomponent/routing\tlifecycle/rotten\n"
     ]
    }
   ],
   "source": [
    "print(row['title'])\n",
    "print('\\n - - - - - - \\n')\n",
    "print(row['body'])\n",
    "print('\\n - - - - - - \\n')\n",
    "print(row['labels'])"
   ]
  },
  {
   "cell_type": "code",
   "execution_count": 10,
   "id": "93e6fc28",
   "metadata": {},
   "outputs": [],
   "source": [
    "post_input = json.dumps(\n",
    "    {'title': row['title'],\n",
    "        'body': row['body'],\n",
    "        'created_by': row['created_by']},\n",
    "    indent = 0)"
   ]
  },
  {
   "cell_type": "code",
   "execution_count": 11,
   "id": "e91a8621",
   "metadata": {},
   "outputs": [],
   "source": [
    "r = requests.post(\n",
    "    'http://github-labeler-ds-github-labeler.apps.smaug.na.operate-first.cloud/predict',\n",
    "    json = post_input, timeout = 60)"
   ]
  },
  {
   "cell_type": "code",
   "execution_count": 12,
   "id": "eaa229e1",
   "metadata": {},
   "outputs": [
    {
     "data": {
      "text/plain": [
       "<Response [200]>"
      ]
     },
     "execution_count": 12,
     "metadata": {},
     "output_type": "execute_result"
    }
   ],
   "source": [
    "r"
   ]
  },
  {
   "cell_type": "code",
   "execution_count": 13,
   "id": "48e6b57d",
   "metadata": {},
   "outputs": [
    {
     "name": "stdout",
     "output_type": "stream",
     "text": [
      "component/networking\n",
      "component/routing\n",
      "sig/networking\n",
      "area/documentation\n"
     ]
    }
   ],
   "source": [
    "for x in r.content.decode('utf-8').split('\\t'):\n",
    "    print(x)"
   ]
  }
 ],
 "metadata": {
  "kernelspec": {
   "display_name": "Python 3",
   "language": "python",
   "name": "python3"
  },
  "language_info": {
   "codemirror_mode": {
    "name": "ipython",
    "version": 3
   },
   "file_extension": ".py",
   "mimetype": "text/x-python",
   "name": "python",
   "nbconvert_exporter": "python",
   "pygments_lexer": "ipython3",
   "version": "3.8.8"
  }
 },
 "nbformat": 4,
 "nbformat_minor": 5
}
