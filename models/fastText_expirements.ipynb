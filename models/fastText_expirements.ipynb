{
 "cells": [
  {
   "cell_type": "markdown",
   "id": "52527d86",
   "metadata": {
    "papermill": {
     "duration": 0.034156,
     "end_time": "2021-07-31T07:46:17.470212",
     "exception": false,
     "start_time": "2021-07-31T07:46:17.436056",
     "status": "completed"
    },
    "tags": []
   },
   "source": [
    "This is an expiremental notebook where you can specify a dataframe path and see how fastText performs on the dataset.\n",
    "\n",
    "The dataset will remove issues made by detected bots, and additional bots can be added as well. \n",
    "\n",
    "Each label is predicted as a fastText binary classification task. Negative samples are evenly distributed amongst other labels.\n",
    "\n",
    "The output will be a dataframe with the precision, accuracy, and recall for each label, computed using k-fold cross validation."
   ]
  },
  {
   "cell_type": "code",
   "execution_count": 217,
   "id": "81870a78",
   "metadata": {
    "ExecuteTime": {
     "end_time": "2021-06-22T20:35:48.707511Z",
     "start_time": "2021-06-22T20:35:40.700556Z"
    },
    "papermill": {
     "duration": 2.211672,
     "end_time": "2021-07-31T07:46:19.713122",
     "exception": false,
     "start_time": "2021-07-31T07:46:17.501450",
     "status": "completed"
    },
    "tags": []
   },
   "outputs": [],
   "source": [
    "import pandas as pd\n",
    "import numpy as np\n",
    "from skift import FirstColFtClassifier\n",
    "import itertools\n",
    "import collections\n",
    "import os\n",
    "import seaborn as sns\n",
    "from sklearn.model_selection import KFold\n",
    "import boto3\n",
    "from dotenv import load_dotenv, find_dotenv"
   ]
  },
  {
   "cell_type": "code",
   "execution_count": 218,
   "id": "cb0ec851-0559-4b4d-8142-66f33a66fe6a",
   "metadata": {
    "papermill": {
     "duration": 0.045487,
     "end_time": "2021-07-31T07:46:19.790614",
     "exception": false,
     "start_time": "2021-07-31T07:46:19.745127",
     "status": "completed"
    },
    "tags": []
   },
   "outputs": [
    {
     "data": {
      "text/plain": [
       "True"
      ]
     },
     "execution_count": 218,
     "metadata": {},
     "output_type": "execute_result"
    }
   ],
   "source": [
    "# load environment variables\n",
    "load_dotenv(find_dotenv())"
   ]
  },
  {
   "cell_type": "code",
   "execution_count": 219,
   "id": "6d3bf186-7a93-4f1c-8932-ef0d61d1fe3b",
   "metadata": {
    "papermill": {
     "duration": 0.17456,
     "end_time": "2021-07-31T07:46:19.994790",
     "exception": false,
     "start_time": "2021-07-31T07:46:19.820230",
     "status": "completed"
    },
    "tags": []
   },
   "outputs": [],
   "source": [
    "# whether to use ceph or store locally\n",
    "\n",
    "use_ceph = True\n",
    "\n",
    "if use_ceph:\n",
    "    s3_endpoint_url = os.environ[\"OBJECT_STORAGE_ENDPOINT_URL\"]\n",
    "    s3_access_key = os.environ[\"AWS_ACCESS_KEY_ID\"]\n",
    "    s3_secret_key = os.environ[\"AWS_SECRET_ACCESS_KEY\"]\n",
    "    s3_bucket = os.environ[\"OBJECT_STORAGE_BUCKET_NAME\"]\n",
    "\n",
    "    s3 = boto3.client(\n",
    "        service_name=\"s3\",\n",
    "        aws_access_key_id=s3_access_key,\n",
    "        aws_secret_access_key=s3_secret_key,\n",
    "        endpoint_url=s3_endpoint_url,\n",
    "    )"
   ]
  },
  {
   "cell_type": "code",
   "execution_count": 4,
   "id": "74cb619c-6eae-4f6a-bca8-2e187e15510c",
   "metadata": {
    "execution": {
     "iopub.execute_input": "2021-07-31T07:46:20.084930Z",
     "iopub.status.busy": "2021-07-31T07:46:20.083948Z",
     "iopub.status.idle": "2021-07-31T07:46:20.087579Z",
     "shell.execute_reply": "2021-07-31T07:46:20.086785Z"
    },
    "papermill": {
     "duration": 0.048989,
     "end_time": "2021-07-31T07:46:20.087810",
     "exception": false,
     "start_time": "2021-07-31T07:46:20.038821",
     "status": "completed"
    },
    "tags": []
   },
   "outputs": [],
   "source": [
    "name = os.getenv(\"REPO_NAME\")\n",
    "\n",
    "if \"/\" in name:\n",
    "    REPO = name\n",
    "    USER = \"\"\n",
    "else:\n",
    "    USER = name\n",
    "    REPO = \"\""
   ]
  },
  {
   "cell_type": "code",
   "execution_count": 5,
   "id": "0370ed69",
   "metadata": {
    "ExecuteTime": {
     "end_time": "2021-06-22T20:03:36.750135Z",
     "start_time": "2021-06-22T20:03:19.017994Z"
    },
    "execution": {
     "iopub.execute_input": "2021-07-31T07:46:20.270802Z",
     "iopub.status.busy": "2021-07-31T07:46:20.182799Z",
     "iopub.status.idle": "2021-07-31T07:46:30.148355Z",
     "shell.execute_reply": "2021-07-31T07:46:30.148996Z"
    },
    "papermill": {
     "duration": 10.018355,
     "end_time": "2021-07-31T07:46:30.149221",
     "exception": false,
     "start_time": "2021-07-31T07:46:20.130866",
     "status": "completed"
    },
    "tags": []
   },
   "outputs": [
    {
     "name": "stdout",
     "output_type": "stream",
     "text": [
      "data/pytorch-_-fairseq.csv\n"
     ]
    }
   ],
   "source": [
    "# repo data is saved as {org_name}-_-{repo_name}\n",
    "# orginization data is saved as {org_name}\n",
    "\n",
    "savename = USER if USER else REPO.replace(\"/\", \"-_-\")\n",
    "path = os.path.join(\"../data\", savename + \".csv\")\n",
    "key = f\"github-labeler/data/{savename}.csv\"\n",
    "\n",
    "if use_ceph:\n",
    "    print(key)\n",
    "    response = s3.get_object(Bucket=s3_bucket, Key=key)\n",
    "    issues_df = pd.read_csv(response.get(\"Body\")).drop_duplicates()\n",
    "else:\n",
    "    issues_df = pd.read_csv(path).drop_duplicates()"
   ]
  },
  {
   "cell_type": "code",
   "execution_count": 6,
   "id": "2ccc0109",
   "metadata": {
    "ExecuteTime": {
     "end_time": "2021-06-22T20:14:09.451072Z",
     "start_time": "2021-06-22T20:14:09.436973Z"
    },
    "execution": {
     "iopub.execute_input": "2021-07-31T07:46:30.220175Z",
     "iopub.status.busy": "2021-07-31T07:46:30.219072Z",
     "iopub.status.idle": "2021-07-31T07:46:30.232767Z",
     "shell.execute_reply": "2021-07-31T07:46:30.233484Z"
    },
    "papermill": {
     "duration": 0.051666,
     "end_time": "2021-07-31T07:46:30.233704",
     "exception": false,
     "start_time": "2021-07-31T07:46:30.182038",
     "status": "completed"
    },
    "tags": []
   },
   "outputs": [
    {
     "data": {
      "text/html": [
       "<div>\n",
       "<style scoped>\n",
       "    .dataframe tbody tr th:only-of-type {\n",
       "        vertical-align: middle;\n",
       "    }\n",
       "\n",
       "    .dataframe tbody tr th {\n",
       "        vertical-align: top;\n",
       "    }\n",
       "\n",
       "    .dataframe thead th {\n",
       "        text-align: right;\n",
       "    }\n",
       "</style>\n",
       "<table border=\"1\" class=\"dataframe\">\n",
       "  <thead>\n",
       "    <tr style=\"text-align: right;\">\n",
       "      <th></th>\n",
       "      <th>id</th>\n",
       "      <th>repo</th>\n",
       "      <th>title</th>\n",
       "      <th>body</th>\n",
       "      <th>created_at</th>\n",
       "      <th>created_by</th>\n",
       "      <th>num_labels</th>\n",
       "      <th>labels</th>\n",
       "    </tr>\n",
       "  </thead>\n",
       "  <tbody>\n",
       "    <tr>\n",
       "      <th>2308</th>\n",
       "      <td>pytorch/fairseq/3129</td>\n",
       "      <td>pytorch/fairseq</td>\n",
       "      <td>The download link for examples/multilingual/mM...</td>\n",
       "      <td>The link for downloading the mMBART50 many-to-...</td>\n",
       "      <td>2021-01-12 20:01:19</td>\n",
       "      <td>xiaolin-cheng</td>\n",
       "      <td>1</td>\n",
       "      <td>stale</td>\n",
       "    </tr>\n",
       "    <tr>\n",
       "      <th>1201</th>\n",
       "      <td>pytorch/fairseq/1734</td>\n",
       "      <td>pytorch/fairseq</td>\n",
       "      <td>sqrt(): argument 'input' (position 1) must be ...</td>\n",
       "      <td>## 🐛 Bug\\r\\n\\r\\nWhen using fairseq-train with ...</td>\n",
       "      <td>2020-02-21 12:48:18</td>\n",
       "      <td>slusarczyk41</td>\n",
       "      <td>2</td>\n",
       "      <td>bug\\tunable to repro</td>\n",
       "    </tr>\n",
       "    <tr>\n",
       "      <th>1739</th>\n",
       "      <td>pytorch/fairseq/2439</td>\n",
       "      <td>pytorch/fairseq</td>\n",
       "      <td>Problem with serializing quantized MT model</td>\n",
       "      <td>Following tips from #1993 and https://github.c...</td>\n",
       "      <td>2020-08-06 10:48:55</td>\n",
       "      <td>jahutwb</td>\n",
       "      <td>3</td>\n",
       "      <td>needs triage\\tquestion\\tstale</td>\n",
       "    </tr>\n",
       "    <tr>\n",
       "      <th>726</th>\n",
       "      <td>pytorch/fairseq/1136</td>\n",
       "      <td>pytorch/fairseq</td>\n",
       "      <td>Runtime error - custom classification task</td>\n",
       "      <td>Hi\\r\\n\\r\\nI am training classification model w...</td>\n",
       "      <td>2019-09-16 07:34:50</td>\n",
       "      <td>subhamkhemka</td>\n",
       "      <td>0</td>\n",
       "      <td>NaN</td>\n",
       "    </tr>\n",
       "    <tr>\n",
       "      <th>7</th>\n",
       "      <td>pytorch/fairseq/9</td>\n",
       "      <td>pytorch/fairseq</td>\n",
       "      <td>How to reproduce results on the summarization ...</td>\n",
       "      <td>Hi,\\r\\nI am trying to reproduce experimental r...</td>\n",
       "      <td>2017-09-27 13:42:03</td>\n",
       "      <td>Silenthinker</td>\n",
       "      <td>0</td>\n",
       "      <td>NaN</td>\n",
       "    </tr>\n",
       "  </tbody>\n",
       "</table>\n",
       "</div>"
      ],
      "text/plain": [
       "                        id             repo  \\\n",
       "2308  pytorch/fairseq/3129  pytorch/fairseq   \n",
       "1201  pytorch/fairseq/1734  pytorch/fairseq   \n",
       "1739  pytorch/fairseq/2439  pytorch/fairseq   \n",
       "726   pytorch/fairseq/1136  pytorch/fairseq   \n",
       "7        pytorch/fairseq/9  pytorch/fairseq   \n",
       "\n",
       "                                                  title  \\\n",
       "2308  The download link for examples/multilingual/mM...   \n",
       "1201  sqrt(): argument 'input' (position 1) must be ...   \n",
       "1739        Problem with serializing quantized MT model   \n",
       "726          Runtime error - custom classification task   \n",
       "7     How to reproduce results on the summarization ...   \n",
       "\n",
       "                                                   body           created_at  \\\n",
       "2308  The link for downloading the mMBART50 many-to-...  2021-01-12 20:01:19   \n",
       "1201  ## 🐛 Bug\\r\\n\\r\\nWhen using fairseq-train with ...  2020-02-21 12:48:18   \n",
       "1739  Following tips from #1993 and https://github.c...  2020-08-06 10:48:55   \n",
       "726   Hi\\r\\n\\r\\nI am training classification model w...  2019-09-16 07:34:50   \n",
       "7     Hi,\\r\\nI am trying to reproduce experimental r...  2017-09-27 13:42:03   \n",
       "\n",
       "         created_by  num_labels                         labels  \n",
       "2308  xiaolin-cheng           1                          stale  \n",
       "1201   slusarczyk41           2           bug\\tunable to repro  \n",
       "1739        jahutwb           3  needs triage\\tquestion\\tstale  \n",
       "726    subhamkhemka           0                            NaN  \n",
       "7      Silenthinker           0                            NaN  "
      ]
     },
     "execution_count": 6,
     "metadata": {},
     "output_type": "execute_result"
    }
   ],
   "source": [
    "issues_df.sample(5)"
   ]
  },
  {
   "cell_type": "code",
   "execution_count": 7,
   "id": "3e7f3f78",
   "metadata": {
    "ExecuteTime": {
     "end_time": "2021-06-22T20:34:58.887476Z",
     "start_time": "2021-06-22T20:34:58.878809Z"
    },
    "execution": {
     "iopub.execute_input": "2021-07-31T07:46:30.303383Z",
     "iopub.status.busy": "2021-07-31T07:46:30.302684Z",
     "iopub.status.idle": "2021-07-31T07:46:30.309485Z",
     "shell.execute_reply": "2021-07-31T07:46:30.308423Z"
    },
    "papermill": {
     "duration": 0.043439,
     "end_time": "2021-07-31T07:46:30.309635",
     "exception": false,
     "start_time": "2021-07-31T07:46:30.266196",
     "status": "completed"
    },
    "tags": []
   },
   "outputs": [
    {
     "name": "stdout",
     "output_type": "stream",
     "text": [
      "question 1178\n",
      "needs triage 987\n",
      "stale 463\n",
      "bug 401\n",
      "enhancement 167\n",
      "help wanted 146\n",
      "documentation 85\n"
     ]
    }
   ],
   "source": [
    "# output most popular labels\n",
    "\n",
    "cutoff = 50\n",
    "\n",
    "label_lst = list(\n",
    "    itertools.chain.from_iterable([ls.split(\"\\t\") for ls in issues_df.labels.dropna()])\n",
    ")\n",
    "counter = collections.Counter(label_lst)\n",
    "\n",
    "for a, b in counter.most_common():\n",
    "    if b > cutoff:\n",
    "        print(f\"{a} {b}\")"
   ]
  },
  {
   "cell_type": "code",
   "execution_count": 8,
   "id": "7d4f60a1-2dec-4ca2-b76a-8bca1da82774",
   "metadata": {
    "execution": {
     "iopub.execute_input": "2021-07-31T07:46:30.374126Z",
     "iopub.status.busy": "2021-07-31T07:46:30.373141Z",
     "iopub.status.idle": "2021-07-31T07:46:30.376535Z",
     "shell.execute_reply": "2021-07-31T07:46:30.377083Z"
    },
    "papermill": {
     "duration": 0.036914,
     "end_time": "2021-07-31T07:46:30.377258",
     "exception": false,
     "start_time": "2021-07-31T07:46:30.340344",
     "status": "completed"
    },
    "tags": []
   },
   "outputs": [],
   "source": [
    "# define synonyms, first in set will be used name\n",
    "\n",
    "synsets = [\n",
    "    [\"kind/bug\", \"bug\"],\n",
    "]"
   ]
  },
  {
   "cell_type": "code",
   "execution_count": 9,
   "id": "ceda43f9-0c3e-43b9-b2f6-2c14ae5f884c",
   "metadata": {
    "execution": {
     "iopub.execute_input": "2021-07-31T07:46:30.451345Z",
     "iopub.status.busy": "2021-07-31T07:46:30.450646Z",
     "iopub.status.idle": "2021-07-31T07:46:30.453455Z",
     "shell.execute_reply": "2021-07-31T07:46:30.452869Z"
    },
    "papermill": {
     "duration": 0.045366,
     "end_time": "2021-07-31T07:46:30.453606",
     "exception": false,
     "start_time": "2021-07-31T07:46:30.408240",
     "status": "completed"
    },
    "tags": []
   },
   "outputs": [],
   "source": [
    "# equate synonyms\n",
    "\n",
    "for syn in synsets:\n",
    "\n",
    "    def equate_syns(lbl):\n",
    "        return syn[0] if lbl in syn[1:] else lbl\n",
    "\n",
    "    def equate_list(lbllist):\n",
    "        if type(lbllist) == str:\n",
    "            return \"\\t\".join(\n",
    "                list(set([equate_syns(lbl) for lbl in lbllist.split(\"\\t\")]))\n",
    "            )\n",
    "        else:\n",
    "            return lbllist\n",
    "\n",
    "    issues_df.labels = issues_df.labels.apply(equate_list)"
   ]
  },
  {
   "cell_type": "code",
   "execution_count": 10,
   "id": "732e4d0d",
   "metadata": {
    "ExecuteTime": {
     "end_time": "2021-06-22T20:37:34.707376Z",
     "start_time": "2021-06-22T20:37:34.472413Z"
    },
    "execution": {
     "iopub.execute_input": "2021-07-31T07:46:30.545536Z",
     "iopub.status.busy": "2021-07-31T07:46:30.521159Z",
     "iopub.status.idle": "2021-07-31T07:46:30.718594Z",
     "shell.execute_reply": "2021-07-31T07:46:30.719151Z"
    },
    "papermill": {
     "duration": 0.235076,
     "end_time": "2021-07-31T07:46:30.719349",
     "exception": false,
     "start_time": "2021-07-31T07:46:30.484273",
     "status": "completed"
    },
    "tags": []
   },
   "outputs": [
    {
     "data": {
      "text/plain": [
       "(0.0, 6.0)"
      ]
     },
     "execution_count": 10,
     "metadata": {},
     "output_type": "execute_result"
    },
    {
     "data": {
      "image/png": "[encoded data removed]",
      "text/plain": [
       "<Figure size 432x288 with 1 Axes>"
      ]
     },
     "metadata": {
      "needs_background": "light"
     },
     "output_type": "display_data"
    }
   ],
   "source": [
    "# output histogram of number of labels\n",
    "\n",
    "ax = sns.histplot(issues_df.num_labels, bins=int(max(issues_df.num_labels)))\n",
    "ax.set_xlim((0, 6))"
   ]
  },
  {
   "cell_type": "code",
   "execution_count": 11,
   "id": "1fcc62c3-a014-4aad-b877-359c86f4b9c2",
   "metadata": {
    "execution": {
     "iopub.execute_input": "2021-07-31T07:46:30.788893Z",
     "iopub.status.busy": "2021-07-31T07:46:30.788166Z",
     "iopub.status.idle": "2021-07-31T07:46:30.793499Z",
     "shell.execute_reply": "2021-07-31T07:46:30.794062Z"
    },
    "papermill": {
     "duration": 0.042406,
     "end_time": "2021-07-31T07:46:30.794225",
     "exception": false,
     "start_time": "2021-07-31T07:46:30.751819",
     "status": "completed"
    },
    "tags": []
   },
   "outputs": [
    {
     "data": {
      "text/plain": [
       "shamanez          31\n",
       "erip              27\n",
       "gaopengcuhk       20\n",
       "ajesujoba         20\n",
       "astariul          18\n",
       "nicolabertoldi    17\n",
       "travel-go         16\n",
       "tuhinjubcse       16\n",
       "munael            16\n",
       "gvskalyan         15\n",
       "Name: created_by, dtype: int64"
      ]
     },
     "execution_count": 11,
     "metadata": {},
     "output_type": "execute_result"
    }
   ],
   "source": [
    "# view most common issue creators\n",
    "\n",
    "issues_df.created_by.value_counts(ascending=False).head(10)"
   ]
  },
  {
   "cell_type": "code",
   "execution_count": 12,
   "id": "53b38fc5-26ff-4051-8d16-5cccc216dc22",
   "metadata": {
    "execution": {
     "iopub.execute_input": "2021-07-31T07:46:30.872629Z",
     "iopub.status.busy": "2021-07-31T07:46:30.871959Z",
     "iopub.status.idle": "2021-07-31T07:46:30.876098Z",
     "shell.execute_reply": "2021-07-31T07:46:30.875139Z"
    },
    "papermill": {
     "duration": 0.045951,
     "end_time": "2021-07-31T07:46:30.876236",
     "exception": false,
     "start_time": "2021-07-31T07:46:30.830285",
     "status": "completed"
    },
    "tags": []
   },
   "outputs": [
    {
     "name": "stdout",
     "output_type": "stream",
     "text": [
      "bots found:\n"
     ]
    }
   ],
   "source": [
    "# first find bots transparently tagged as such\n",
    "\n",
    "\n",
    "def is_bot(name):\n",
    "    return name[-5:] == \"[bot]\"\n",
    "\n",
    "\n",
    "all_names = issues_df.created_by.unique()\n",
    "\n",
    "bots = all_names[[is_bot(x) for x in all_names]]\n",
    "\n",
    "print(\"bots found:\")\n",
    "for b in bots:\n",
    "    print(\"\\t\", b)"
   ]
  },
  {
   "cell_type": "code",
   "execution_count": 13,
   "id": "8a115335-0a56-4b3a-8da5-68444cf2edd2",
   "metadata": {
    "execution": {
     "iopub.execute_input": "2021-07-31T07:46:30.945099Z",
     "iopub.status.busy": "2021-07-31T07:46:30.944406Z",
     "iopub.status.idle": "2021-07-31T07:46:30.947255Z",
     "shell.execute_reply": "2021-07-31T07:46:30.946696Z"
    },
    "papermill": {
     "duration": 0.03853,
     "end_time": "2021-07-31T07:46:30.947394",
     "exception": false,
     "start_time": "2021-07-31T07:46:30.908864",
     "status": "completed"
    },
    "tags": []
   },
   "outputs": [],
   "source": [
    "# choose any additional bot accounts whose issues to not count\n",
    "\n",
    "additional_bots = [\"sesheta\"]"
   ]
  },
  {
   "cell_type": "code",
   "execution_count": 14,
   "id": "9ad651ef-afdf-4058-bf9a-835c8ddd079d",
   "metadata": {
    "execution": {
     "iopub.execute_input": "2021-07-31T07:46:31.041952Z",
     "iopub.status.busy": "2021-07-31T07:46:31.016526Z",
     "iopub.status.idle": "2021-07-31T07:46:31.053334Z",
     "shell.execute_reply": "2021-07-31T07:46:31.053896Z"
    },
    "papermill": {
     "duration": 0.074071,
     "end_time": "2021-07-31T07:46:31.054069",
     "exception": false,
     "start_time": "2021-07-31T07:46:30.979998",
     "status": "completed"
    },
    "tags": []
   },
   "outputs": [],
   "source": [
    "# filter out issues created by bots & their labels\n",
    "\n",
    "bots = np.concatenate((bots, additional_bots))\n",
    "\n",
    "issues_df = issues_df[issues_df.created_by.apply(lambda x: x not in bots)]"
   ]
  },
  {
   "cell_type": "code",
   "execution_count": 15,
   "id": "47dff764-a8a2-413c-9965-cf7778810b4d",
   "metadata": {
    "execution": {
     "iopub.execute_input": "2021-07-31T07:46:31.126012Z",
     "iopub.status.busy": "2021-07-31T07:46:31.125312Z",
     "iopub.status.idle": "2021-07-31T07:46:31.131806Z",
     "shell.execute_reply": "2021-07-31T07:46:31.130853Z"
    },
    "papermill": {
     "duration": 0.045305,
     "end_time": "2021-07-31T07:46:31.131975",
     "exception": false,
     "start_time": "2021-07-31T07:46:31.086670",
     "status": "completed"
    },
    "tags": []
   },
   "outputs": [
    {
     "name": "stdout",
     "output_type": "stream",
     "text": [
      "question 1178\n",
      "needs triage 987\n",
      "stale 463\n",
      "kind/bug 401\n",
      "enhancement 167\n",
      "help wanted 146\n",
      "documentation 85\n"
     ]
    }
   ],
   "source": [
    "# most popular labels, nearly finalized\n",
    "\n",
    "cutoff = 50\n",
    "final_labels = []\n",
    "\n",
    "label_lst = list(\n",
    "    itertools.chain.from_iterable([ls.split(\"\\t\") for ls in issues_df.labels.dropna()])\n",
    ")\n",
    "counter = collections.Counter(label_lst)\n",
    "\n",
    "for a, b in counter.most_common():\n",
    "    if b > cutoff:\n",
    "        print(f\"{a} {b}\")\n",
    "        final_labels.append(a)"
   ]
  },
  {
   "cell_type": "code",
   "execution_count": 16,
   "id": "92827423-7e5b-4b94-b40e-dc62070ee11e",
   "metadata": {
    "execution": {
     "iopub.execute_input": "2021-07-31T07:46:31.204196Z",
     "iopub.status.busy": "2021-07-31T07:46:31.203519Z",
     "iopub.status.idle": "2021-07-31T07:46:31.205706Z",
     "shell.execute_reply": "2021-07-31T07:46:31.206274Z"
    },
    "papermill": {
     "duration": 0.041593,
     "end_time": "2021-07-31T07:46:31.206445",
     "exception": false,
     "start_time": "2021-07-31T07:46:31.164852",
     "status": "completed"
    },
    "tags": []
   },
   "outputs": [],
   "source": [
    "# choose labels whose issues you don't want to include in the dset\n",
    "\n",
    "exclude = []"
   ]
  },
  {
   "cell_type": "code",
   "execution_count": 17,
   "id": "6925d24e-ad7d-47d4-86e6-bd01084ca3f0",
   "metadata": {
    "execution": {
     "iopub.execute_input": "2021-07-31T07:46:31.284851Z",
     "iopub.status.busy": "2021-07-31T07:46:31.284166Z",
     "iopub.status.idle": "2021-07-31T07:46:31.290245Z",
     "shell.execute_reply": "2021-07-31T07:46:31.290771Z"
    },
    "papermill": {
     "duration": 0.050215,
     "end_time": "2021-07-31T07:46:31.290973",
     "exception": false,
     "start_time": "2021-07-31T07:46:31.240758",
     "status": "completed"
    },
    "tags": []
   },
   "outputs": [],
   "source": [
    "# remove those labels\n",
    "\n",
    "for lbl in exclude:\n",
    "    if lbl in final_labels:\n",
    "        final_labels.remove(lbl)\n",
    "\n",
    "\n",
    "def inclusion(lbl_list):\n",
    "    if type(lbl_list) == str:\n",
    "        return not any([lbl in lbl_list.split(\"\\t\") for lbl in exclude])\n",
    "    else:\n",
    "        return True\n",
    "\n",
    "\n",
    "not_containing = issues_df.labels.apply(lambda x: inclusion(x))\n",
    "issues_df = issues_df[not_containing]"
   ]
  },
  {
   "cell_type": "code",
   "execution_count": 18,
   "id": "a887c8f7-6c54-4f4f-80ea-6f1141a02b0e",
   "metadata": {
    "execution": {
     "iopub.execute_input": "2021-07-31T07:46:31.368329Z",
     "iopub.status.busy": "2021-07-31T07:46:31.367626Z",
     "iopub.status.idle": "2021-07-31T07:46:31.370474Z",
     "shell.execute_reply": "2021-07-31T07:46:31.369895Z"
    },
    "papermill": {
     "duration": 0.04022,
     "end_time": "2021-07-31T07:46:31.370619",
     "exception": false,
     "start_time": "2021-07-31T07:46:31.330399",
     "status": "completed"
    },
    "tags": []
   },
   "outputs": [],
   "source": [
    "# choose issues you do not wish to attempt to predict\n",
    "\n",
    "# dont_pred = ['priority/P2', 'lifecycle/frozen', 'lifecycle/stale', 'priority/P3', 'priority/P1', 'lifecycle/rotten']\n",
    "\n",
    "dont_pred = []\n",
    "\n",
    "for dp in dont_pred:\n",
    "    final_labels.remove(dp)"
   ]
  },
  {
   "cell_type": "code",
   "execution_count": 19,
   "id": "d66a1860-64a8-4821-9837-8edbc2c1aca0",
   "metadata": {
    "execution": {
     "iopub.execute_input": "2021-07-31T07:46:31.448919Z",
     "iopub.status.busy": "2021-07-31T07:46:31.447983Z",
     "iopub.status.idle": "2021-07-31T07:46:31.630716Z",
     "shell.execute_reply": "2021-07-31T07:46:31.630123Z"
    },
    "papermill": {
     "duration": 0.226575,
     "end_time": "2021-07-31T07:46:31.630891",
     "exception": false,
     "start_time": "2021-07-31T07:46:31.404316",
     "status": "completed"
    },
    "tags": []
   },
   "outputs": [
    {
     "data": {
      "text/plain": [
       "(0.0, 6.0)"
      ]
     },
     "execution_count": 19,
     "metadata": {},
     "output_type": "execute_result"
    },
    {
     "data": {
      "image/png": "[encoded data removed]",
      "text/plain": [
       "<Figure size 432x288 with 1 Axes>"
      ]
     },
     "metadata": {
      "needs_background": "light"
     },
     "output_type": "display_data"
    }
   ],
   "source": [
    "# output histogram of number of relevant labels, finalized\n",
    "\n",
    "set_dp = set(dont_pred)\n",
    "\n",
    "num_rel_issues = issues_df.labels.apply(\n",
    "    lambda x: len(set(x.split(\"\\t\")).difference(set_dp)) if type(x) == str else 0\n",
    ")\n",
    "\n",
    "ax = sns.histplot(num_rel_issues, bins=int(max(num_rel_issues)))\n",
    "ax.set_xlim((0, 6))"
   ]
  },
  {
   "cell_type": "code",
   "execution_count": 20,
   "id": "97517c6e",
   "metadata": {
    "ExecuteTime": {
     "end_time": "2021-06-22T18:12:23.667416Z",
     "start_time": "2021-06-22T18:12:23.515074Z"
    },
    "execution": {
     "iopub.execute_input": "2021-07-31T07:46:31.708151Z",
     "iopub.status.busy": "2021-07-31T07:46:31.707341Z",
     "iopub.status.idle": "2021-07-31T07:46:31.749713Z",
     "shell.execute_reply": "2021-07-31T07:46:31.750308Z"
    },
    "papermill": {
     "duration": 0.084668,
     "end_time": "2021-07-31T07:46:31.750514",
     "exception": false,
     "start_time": "2021-07-31T07:46:31.665846",
     "status": "completed"
    },
    "tags": []
   },
   "outputs": [],
   "source": [
    "# preprocessing\n",
    "issues_df = issues_df.fillna({\"title\": \"\", \"body\": \"\"})\n",
    "issues_df[\"body\"] = issues_df[\"body\"].apply(\n",
    "    lambda x: x.replace(\"\\n\", \" <N> \").replace(\"\\r\", \" <R> \")\n",
    ")\n",
    "issues_df[\"input\"] = issues_df[\"title\"] + \" <SEP> \" + issues_df[\"body\"]"
   ]
  },
  {
   "cell_type": "code",
   "execution_count": 21,
   "id": "c08cde46-6b0a-4c67-b883-351f1c2fdbb0",
   "metadata": {
    "execution": {
     "iopub.execute_input": "2021-07-31T07:46:31.834441Z",
     "iopub.status.busy": "2021-07-31T07:46:31.828772Z",
     "iopub.status.idle": "2021-07-31T07:46:31.837261Z",
     "shell.execute_reply": "2021-07-31T07:46:31.836668Z"
    },
    "papermill": {
     "duration": 0.051468,
     "end_time": "2021-07-31T07:46:31.837405",
     "exception": false,
     "start_time": "2021-07-31T07:46:31.785937",
     "status": "completed"
    },
    "tags": []
   },
   "outputs": [],
   "source": [
    "def get_subdataset(label):\n",
    "    \"\"\"\n",
    "    pass in a label name and get back a dataframe of positive & negative samples for the label\n",
    "    we avoid taking unlabelled data as negative samples\n",
    "    negative samples are distributed evenly amongst the other labels\n",
    "    \"\"\"\n",
    "    labelled = issues_df[~issues_df.labels.isna()]\n",
    "    final_labels_ = final_labels.copy()\n",
    "    final_labels_.remove(label)\n",
    "    pos_samples = labelled[labelled.labels.apply(lambda x: label in x.split(\"\\t\"))]\n",
    "    n = len(pos_samples)\n",
    "    remaining = labelled[labelled.id.apply(lambda x: label not in x.split(\"\\t\"))]\n",
    "    n_neg = 0\n",
    "    per_label = n // len(final_labels_)\n",
    "    neg_ids = set()\n",
    "    # evenly sample if we can\n",
    "    # if not enough samples for a label, throw them all in and increase the remaining amount we need per label\n",
    "    for i, lbl in enumerate(reversed(final_labels_)):\n",
    "        neg_samples = remaining[remaining.labels.apply(lambda x: lbl in x.split(\"\\t\"))]\n",
    "        if len(neg_samples) >= per_label:\n",
    "            neg_samples = neg_samples.sample(per_label)\n",
    "            n_neg += per_label\n",
    "        else:\n",
    "            n_neg += len(neg_samples)\n",
    "            if i != len(final_labels_) - 1:\n",
    "                per_label = (n - n_neg) // (len(final_labels_) - i - 1)\n",
    "        remaining = remaining[\n",
    "            remaining.labels.apply(lambda x: lbl not in x.split(\"\\t\"))\n",
    "        ]\n",
    "        neg_ids = neg_ids.union(set(neg_samples.id))\n",
    "    # fill in potential gap with unlabelled issues, if needed\n",
    "    if len(pos_samples) > len(neg_ids):\n",
    "        unlabelled = issues_df.query(\"num_labels == 0\")\n",
    "        if len(unlabelled) > len(pos_samples) - len(neg_ids):\n",
    "            neg_ids = neg_ids.union(\n",
    "                set(unlabelled.sample(len(pos_samples) - len(neg_ids)).id)\n",
    "            )\n",
    "        else:\n",
    "            neg_ids = neg_ids.union(set(unlabelled.ids))\n",
    "            pos_samples = pos_samples.sample(len(neg_ids))\n",
    "    final_neg_samples = issues_df[issues_df.id.apply(lambda x: x in neg_ids)].input\n",
    "    x = np.concatenate((final_neg_samples.values, pos_samples.input.values)).reshape(\n",
    "        -1, 1\n",
    "    )\n",
    "    y = np.concatenate((np.zeros(len(final_neg_samples)), np.ones(len(pos_samples))))\n",
    "    return x, y.astype(int)"
   ]
  },
  {
   "cell_type": "code",
   "execution_count": 22,
   "id": "e7bf9d4b-b514-4680-9870-ce12a8b02b61",
   "metadata": {
    "execution": {
     "iopub.execute_input": "2021-07-31T07:46:31.916255Z",
     "iopub.status.busy": "2021-07-31T07:46:31.915547Z",
     "iopub.status.idle": "2021-07-31T07:46:31.917722Z",
     "shell.execute_reply": "2021-07-31T07:46:31.918293Z"
    },
    "papermill": {
     "duration": 0.046625,
     "end_time": "2021-07-31T07:46:31.918467",
     "exception": false,
     "start_time": "2021-07-31T07:46:31.871842",
     "status": "completed"
    },
    "tags": []
   },
   "outputs": [],
   "source": [
    "def predict_label(label, k=5):\n",
    "    \"\"\"\n",
    "    validates fastText model on the given label, using k-fold cross validation\n",
    "    \"\"\"\n",
    "    x, y = get_subdataset(label)\n",
    "    kf = KFold(n_splits=k, random_state=None, shuffle=True)\n",
    "    accuracy = []\n",
    "    precision = []\n",
    "    recall = []\n",
    "    for train_index, test_index in kf.split(x):\n",
    "        model = FirstColFtClassifier()\n",
    "        x_train, x_test = x[train_index], x[test_index]\n",
    "        y_train, y_test = y[train_index], y[test_index]\n",
    "        model.fit(x_train, y_train)\n",
    "        preds = model.predict(x_test)\n",
    "        accuracy.append(np.mean(preds == y_test))\n",
    "        precision_ = preds[preds == 1] == y_test[preds == 1]\n",
    "        if len(precision_) != 0:\n",
    "            precision.append(np.mean(precision_))\n",
    "        recall_ = preds[y_test == 1] == y_test[y_test == 1]\n",
    "        if len(recall_) != 0:\n",
    "            recall.append(np.mean(recall_))\n",
    "    cols = [\"label\", \"n\", \"accuracy\", \"precision\", \"recall\"]\n",
    "    data = [label, len(x), np.mean(accuracy), np.mean(precision), np.mean(recall)]\n",
    "    return pd.DataFrame([data], columns=cols)"
   ]
  },
  {
   "cell_type": "code",
   "execution_count": 23,
   "id": "489eac35-26c0-4b8b-a059-29f0010da8c9",
   "metadata": {
    "execution": {
     "iopub.execute_input": "2021-07-31T07:46:31.994031Z",
     "iopub.status.busy": "2021-07-31T07:46:31.993337Z",
     "iopub.status.idle": "2021-07-31T07:46:51.684943Z",
     "shell.execute_reply": "2021-07-31T07:46:51.684251Z"
    },
    "papermill": {
     "duration": 19.73174,
     "end_time": "2021-07-31T07:46:51.685170",
     "exception": false,
     "start_time": "2021-07-31T07:46:31.953430",
     "status": "completed"
    },
    "tags": []
   },
   "outputs": [],
   "source": [
    "predicted_labels = []\n",
    "for label in final_labels:\n",
    "    predicted_labels.append(predict_label(label))"
   ]
  },
  {
   "cell_type": "markdown",
   "id": "a414c4b0-08a4-4aee-8a65-5781ae6bb8bc",
   "metadata": {
    "papermill": {
     "duration": 0.035569,
     "end_time": "2021-07-31T07:46:51.757266",
     "exception": false,
     "start_time": "2021-07-31T07:46:51.721697",
     "status": "completed"
    },
    "tags": []
   },
   "source": [
    "NOTE: for now, labels with a low amount of samples are very biased towards predicting a 0, or a negative prediction. This could be fixed by adjusting hyperparameters (once they are explored) and/or finetuning on a pretrained model."
   ]
  },
  {
   "cell_type": "code",
   "execution_count": 24,
   "id": "dcef4bae-0b57-4c4a-8151-cde76b2aed4e",
   "metadata": {
    "execution": {
     "iopub.execute_input": "2021-07-31T07:46:51.858584Z",
     "iopub.status.busy": "2021-07-31T07:46:51.846570Z",
     "iopub.status.idle": "2021-07-31T07:46:51.864294Z",
     "shell.execute_reply": "2021-07-31T07:46:51.863366Z"
    },
    "papermill": {
     "duration": 0.071389,
     "end_time": "2021-07-31T07:46:51.864507",
     "exception": false,
     "start_time": "2021-07-31T07:46:51.793118",
     "status": "completed"
    },
    "tags": []
   },
   "outputs": [
    {
     "data": {
      "text/html": [
       "<div>\n",
       "<style scoped>\n",
       "    .dataframe tbody tr th:only-of-type {\n",
       "        vertical-align: middle;\n",
       "    }\n",
       "\n",
       "    .dataframe tbody tr th {\n",
       "        vertical-align: top;\n",
       "    }\n",
       "\n",
       "    .dataframe thead th {\n",
       "        text-align: right;\n",
       "    }\n",
       "</style>\n",
       "<table border=\"1\" class=\"dataframe\">\n",
       "  <thead>\n",
       "    <tr style=\"text-align: right;\">\n",
       "      <th></th>\n",
       "      <th>label</th>\n",
       "      <th>n</th>\n",
       "      <th>accuracy</th>\n",
       "      <th>precision</th>\n",
       "      <th>recall</th>\n",
       "    </tr>\n",
       "  </thead>\n",
       "  <tbody>\n",
       "    <tr>\n",
       "      <th>0</th>\n",
       "      <td>question</td>\n",
       "      <td>2356</td>\n",
       "      <td>0.503400</td>\n",
       "      <td>0.425968</td>\n",
       "      <td>0.275684</td>\n",
       "    </tr>\n",
       "    <tr>\n",
       "      <th>0</th>\n",
       "      <td>needs triage</td>\n",
       "      <td>1974</td>\n",
       "      <td>0.505564</td>\n",
       "      <td>0.519305</td>\n",
       "      <td>0.409702</td>\n",
       "    </tr>\n",
       "    <tr>\n",
       "      <th>0</th>\n",
       "      <td>stale</td>\n",
       "      <td>926</td>\n",
       "      <td>0.507585</td>\n",
       "      <td>0.500496</td>\n",
       "      <td>0.280010</td>\n",
       "    </tr>\n",
       "    <tr>\n",
       "      <th>0</th>\n",
       "      <td>kind/bug</td>\n",
       "      <td>802</td>\n",
       "      <td>0.556110</td>\n",
       "      <td>0.530213</td>\n",
       "      <td>0.972898</td>\n",
       "    </tr>\n",
       "    <tr>\n",
       "      <th>0</th>\n",
       "      <td>enhancement</td>\n",
       "      <td>334</td>\n",
       "      <td>0.496834</td>\n",
       "      <td>0.000000</td>\n",
       "      <td>0.000000</td>\n",
       "    </tr>\n",
       "    <tr>\n",
       "      <th>0</th>\n",
       "      <td>help wanted</td>\n",
       "      <td>292</td>\n",
       "      <td>0.496844</td>\n",
       "      <td>0.578070</td>\n",
       "      <td>0.245161</td>\n",
       "    </tr>\n",
       "    <tr>\n",
       "      <th>0</th>\n",
       "      <td>documentation</td>\n",
       "      <td>170</td>\n",
       "      <td>0.488235</td>\n",
       "      <td>0.333333</td>\n",
       "      <td>0.046053</td>\n",
       "    </tr>\n",
       "  </tbody>\n",
       "</table>\n",
       "</div>"
      ],
      "text/plain": [
       "           label     n  accuracy  precision    recall\n",
       "0       question  2356  0.503400   0.425968  0.275684\n",
       "0   needs triage  1974  0.505564   0.519305  0.409702\n",
       "0          stale   926  0.507585   0.500496  0.280010\n",
       "0       kind/bug   802  0.556110   0.530213  0.972898\n",
       "0    enhancement   334  0.496834   0.000000  0.000000\n",
       "0    help wanted   292  0.496844   0.578070  0.245161\n",
       "0  documentation   170  0.488235   0.333333  0.046053"
      ]
     },
     "execution_count": 24,
     "metadata": {},
     "output_type": "execute_result"
    }
   ],
   "source": [
    "# save and print the validation results\n",
    "\n",
    "results_df = pd.concat(predicted_labels).sort_values(\"n\", ascending=False)\n",
    "\n",
    "results_df"
   ]
  },
  {
   "cell_type": "code",
   "execution_count": 25,
   "id": "c75a2c81-9a9a-41af-9345-3e7abbe657cd",
   "metadata": {
    "execution": {
     "iopub.execute_input": "2021-07-31T07:46:51.980642Z",
     "iopub.status.busy": "2021-07-31T07:46:51.979714Z",
     "iopub.status.idle": "2021-07-31T07:46:51.984114Z",
     "shell.execute_reply": "2021-07-31T07:46:51.984885Z"
    },
    "papermill": {
     "duration": 0.071246,
     "end_time": "2021-07-31T07:46:51.985151",
     "exception": false,
     "start_time": "2021-07-31T07:46:51.913905",
     "status": "completed"
    },
    "tags": []
   },
   "outputs": [
    {
     "data": {
      "text/html": [
       "<div>\n",
       "<style scoped>\n",
       "    .dataframe tbody tr th:only-of-type {\n",
       "        vertical-align: middle;\n",
       "    }\n",
       "\n",
       "    .dataframe tbody tr th {\n",
       "        vertical-align: top;\n",
       "    }\n",
       "\n",
       "    .dataframe thead th {\n",
       "        text-align: right;\n",
       "    }\n",
       "</style>\n",
       "<table border=\"1\" class=\"dataframe\">\n",
       "  <thead>\n",
       "    <tr style=\"text-align: right;\">\n",
       "      <th></th>\n",
       "      <th>label</th>\n",
       "      <th>n</th>\n",
       "      <th>accuracy</th>\n",
       "      <th>precision</th>\n",
       "      <th>recall</th>\n",
       "    </tr>\n",
       "  </thead>\n",
       "  <tbody>\n",
       "  </tbody>\n",
       "</table>\n",
       "</div>"
      ],
      "text/plain": [
       "Empty DataFrame\n",
       "Columns: [label, n, accuracy, precision, recall]\n",
       "Index: []"
      ]
     },
     "execution_count": 25,
     "metadata": {},
     "output_type": "execute_result"
    }
   ],
   "source": [
    "# set conditions for saving the model of a potential label\n",
    "\n",
    "min_accuracy = 0.55\n",
    "\n",
    "min_precision = 0.6\n",
    "\n",
    "min_recall = 0.0\n",
    "\n",
    "# add in the labels you want to have a model for anyway\n",
    "\n",
    "# addins = ['kind/bug', 'kind/feature']\n",
    "\n",
    "addins = []\n",
    "\n",
    "condition1 = results_df.accuracy > min_accuracy\n",
    "condition2 = results_df.precision > min_precision\n",
    "cond = condition1 & condition2\n",
    "\n",
    "to_save = results_df[cond | results_df.label.isin(addins)]\n",
    "\n",
    "labels_to_save = to_save.label.values\n",
    "\n",
    "to_save"
   ]
  },
  {
   "cell_type": "code",
   "execution_count": 26,
   "id": "50c49725-9912-4b71-afec-d0bcbabc7f50",
   "metadata": {
    "execution": {
     "iopub.execute_input": "2021-07-31T07:46:52.099093Z",
     "iopub.status.busy": "2021-07-31T07:46:52.098065Z",
     "iopub.status.idle": "2021-07-31T07:46:52.101584Z",
     "shell.execute_reply": "2021-07-31T07:46:52.100802Z"
    },
    "papermill": {
     "duration": 0.063155,
     "end_time": "2021-07-31T07:46:52.101804",
     "exception": false,
     "start_time": "2021-07-31T07:46:52.038649",
     "status": "completed"
    },
    "tags": []
   },
   "outputs": [],
   "source": [
    "if not os.path.exists(\"saved_models\"):\n",
    "    os.mkdir(\"saved_models\")\n",
    "\n",
    "if use_ceph:\n",
    "    for label in labels_to_save:\n",
    "        X, y = get_subdataset(label)\n",
    "        model = FirstColFtClassifier()\n",
    "        model.fit(X, y)\n",
    "        lbl_path = os.path.join(\"saved_models\", label.replace(\"/\", \"_\") + \".bin\")\n",
    "        model.model.save_model(lbl_path)\n",
    "        key = f\"github_labeler/{savename}/{lbl_path}\"\n",
    "        s3.upload_file(Bucket=s3_bucket, Key=key, Filename=lbl_path)\n",
    "        os.remove(lbl_path)\n",
    "else:\n",
    "    for label in labels_to_save:\n",
    "        X, y = get_subdataset(label)\n",
    "        model = FirstColFtClassifier()\n",
    "        model.fit(X, y)\n",
    "        model.model.save_model(\n",
    "            os.path.join(\"saved_models\", label.replace(\"/\", \"_\") + \".bin\")\n",
    "        )"
   ]
  },
  {
   "cell_type": "code",
   "execution_count": null,
   "id": "3264b254-e38d-43e5-bbbf-60b2c15f0992",
   "metadata": {
    "papermill": {
     "duration": 4.680783,
     "end_time": "2021-07-31T07:46:56.832395",
     "exception": true,
     "start_time": "2021-07-31T07:46:52.151612",
     "status": "failed"
    },
    "tags": []
   },
   "outputs": [],
   "source": [
    "# save information of who to ignore (so the app knows not to tag these issues)\n",
    "\n",
    "with open(\"botlist.txt\", \"w\") as f:\n",
    "    for b in bots:\n",
    "        f.write(b)\n",
    "        f.write(\"\\n\")\n",
    "\n",
    "# save label names\n",
    "\n",
    "with open(\"labellist.txt\", \"w\") as f:\n",
    "    for b in labels_to_save:\n",
    "        f.write(b)\n",
    "        f.write(\"\\n\")\n",
    "\n",
    "if use_ceph:\n",
    "    s3.upload_file(\n",
    "        Bucket=s3_bucket,\n",
    "        Key=f\"github_labeler/{savename}/botlist.txt\",\n",
    "        Filename=\"botlist.txt\",\n",
    "    )\n",
    "    s3.upload_file(\n",
    "        Bucket=s3_bucket,\n",
    "        Key=f\"github_labeler/{savename}/labellist.txt\",\n",
    "        Filename=\"labellist.txt\",\n",
    "    )"
   ]
  }
 ],
 "metadata": {
  "finalized": {
   "timestamp": 1623870836948,
   "trusted": true
  },
  "kernelspec": {
   "display_name": "Python 3",
   "language": "python",
   "name": "python3"
  },
  "language_info": {
   "codemirror_mode": {
    "name": "ipython",
    "version": 3
   },
   "file_extension": ".py",
   "mimetype": "text/x-python",
   "name": "python",
   "nbconvert_exporter": "python",
   "pygments_lexer": "ipython3",
   "version": "3.8.3"
  },
  "papermill": {
   "default_parameters": {},
   "duration": 41.059318,
   "end_time": "2021-07-31T07:46:57.487281",
   "environment_variables": {},
   "exception": true,
   "input_path": "/opt/app-root/src/github-labeler/models/fastText_expirements.ipynb",
   "output_path": "/opt/app-root/src/github-labeler/models/fastText_expirements.ipynb",
   "parameters": {},
   "start_time": "2021-07-31T07:46:16.427963",
   "version": "2.3.3"
  },
  "toc": {
   "base_numbering": 1,
   "nav_menu": {},
   "number_sections": true,
   "sideBar": true,
   "skip_h1_title": false,
   "title_cell": "Table of Contents",
   "title_sidebar": "Contents",
   "toc_cell": false,
   "toc_position": {},
   "toc_section_display": true,
   "toc_window_display": false
  }
 },
 "nbformat": 4,
 "nbformat_minor": 5
}
